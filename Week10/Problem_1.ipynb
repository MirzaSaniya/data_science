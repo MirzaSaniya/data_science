{
 "cells": [
  {
   "cell_type": "markdown",
   "metadata": {
    "deletable": false,
    "nbgrader": {
     "checksum": "9acac7337ed1280f22743a6f2ef9f5ff",
     "grade": false,
     "grade_id": "header",
     "locked": true,
     "solution": false
    }
   },
   "source": [
    "# Week 10 Problem 1\n",
    "\n",
    "If you are not using the `Assignments` tab on the course JupyterHub server to read this notebook, read [Activating the assignments tab](https://github.com/UI-DataScience/info490-fa16/blob/master/Week2/assignments/README.md).\n",
    "\n",
    "A few things you should keep in mind when working on assignments:\n",
    "\n",
    "1. Make sure you fill in any place that says `YOUR CODE HERE`. Do **not** write your answer in anywhere else other than where it says `YOUR CODE HERE`. Anything you write anywhere else will be removed or overwritten by the autograder.\n",
    "\n",
    "2. Before you submit your assignment, make sure everything runs as expected. Go to menubar, select _Kernel_, and restart the kernel and run all cells (_Restart & Run all_).\n",
    "\n",
    "3. Do not change the title (i.e. file name) of this notebook.\n",
    "\n",
    "4. Make sure that you save your work (in the menubar, select _File_ → _Save and CheckPoint_)\n",
    "\n",
    "5. You are allowed to submit an assignment multiple times, but only the most recent submission will be graded."
   ]
  },
  {
   "cell_type": "code",
   "execution_count": 1,
   "metadata": {
    "collapsed": true,
    "deletable": false,
    "nbgrader": {
     "checksum": "361915fcc1c7bd0076f46fb7c612644d",
     "grade": false,
     "grade_id": "mpl_inline",
     "locked": true,
     "solution": false
    }
   },
   "outputs": [],
   "source": [
    "%matplotlib inline"
   ]
  },
  {
   "cell_type": "code",
   "execution_count": 2,
   "metadata": {
    "collapsed": true,
    "deletable": false,
    "nbgrader": {
     "checksum": "e80830d06df2fcc46b1b5ef160d41b51",
     "grade": false,
     "grade_id": "import",
     "locked": true,
     "solution": false
    }
   },
   "outputs": [],
   "source": [
    "from nose.tools import assert_equal\n",
    "import pandas as pd\n",
    "import matplotlib.pyplot as plt\n",
    "import numpy as np\n",
    "from numpy.testing import assert_almost_equal, assert_array_equal"
   ]
  },
  {
   "cell_type": "markdown",
   "metadata": {
    "deletable": false,
    "nbgrader": {
     "checksum": "f5926e84cec7e7a2f909c23f65e5e457",
     "grade": false,
     "grade_id": "p1_title",
     "locked": true,
     "solution": false
    }
   },
   "source": [
    "# Problem 1.\n",
    "\n",
    "Write a function that makes two histograms, one each for the `lat` and `long` columns of the `airports` data. Although we will only be using it to plot `lat` and `long`, try to make it general to take other columns as arguments. Use the following guidelines:\n",
    "\n",
    "1. Use `plt.subplots` to create two axes on which to plot the histogram and make the entire plot 12 by 9\n",
    "2. Use the [`plot method`](http://pandas.pydata.org/pandas-docs/stable/generated/pandas.DataFrame.plot.html) for a pandas dataframe. \n",
    "3. Set the xlimits for the plot of col1 to (10,70)\n",
    "4. Set the xlimits for the plot of col2 to (-180, -40)\n",
    "5. Plot col1 on ax1 and col2 on ax2\n",
    "6. Don't share any axes or normalize the data\n",
    "\n",
    "Here is an example plot:\n",
    "\n",
    "![Example P1](p1_example.png)"
   ]
  },
  {
   "cell_type": "code",
   "execution_count": 3,
   "metadata": {
    "collapsed": true,
    "deletable": false,
    "nbgrader": {
     "checksum": "db3521fb40ee6d84031e737d64f0aa3d",
     "grade": false,
     "grade_id": "p1_answer",
     "locked": false,
     "solution": true
    }
   },
   "outputs": [],
   "source": [
    "def make_hists(df, col1, col2):\n",
    "    \n",
    "    '''\n",
    "    Makes two histograms for columns of a dataframe, namely the lat and \n",
    "    long columns of the airports data\n",
    "    \n",
    "    Params\n",
    "    -------\n",
    "    df: the dataframe to plot\n",
    "    col1: the first column to plot\n",
    "    col2: the second column to plot\n",
    "    \n",
    "    Returns\n",
    "    -------\n",
    "    A tuple of two matplotlib.axes._subplots.AxesSubplot objects\n",
    "    \n",
    "    '''\n",
    "    \n",
    "    # Create two axes on which to plot the histogram and make the entire plot 12 by 9\n",
    "    fig, ax = plt.subplots(2, figsize=(12,9))\n",
    "    # Set the subplot 1 to ax1\n",
    "    ax1 = ax[0]\n",
    "    # Plot the histogram of the first column of the data frame on the subplot 1, set the xlim to (10, 70) and set the legend\n",
    "    df[col1].plot(kind = 'hist', ax = ax1, xlim = (10, 70), legend = True)\n",
    "    # Set the subplot 2 to ax2\n",
    "    ax2 = ax[1]\n",
    "    # Plot the histogram of the second column of the data frame on the subplot 2, set the xlim to (-180, -40) and set the legend\n",
    "    df[col2].plot(kind = 'hist', ax = ax2, xlim = (-180, -40), legend = True)\n",
    "    \n",
    "    return ax1, ax2"
   ]
  },
  {
   "cell_type": "code",
   "execution_count": 4,
   "metadata": {
    "collapsed": false,
    "deletable": false,
    "nbgrader": {
     "checksum": "583d576e64caf5c477d5661abae310ab",
     "grade": false,
     "grade_id": "show_p1",
     "locked": true,
     "solution": false
    }
   },
   "outputs": [
    {
     "data": {
      "image/png": "[encoded data removed]",
      "text/plain": [
       "<matplotlib.figure.Figure at 0x7fb8c1091cc0>"
      ]
     },
     "metadata": {},
     "output_type": "display_data"
    }
   ],
   "source": [
    "airports = pd.read_csv('/home/data_scientist/data/airports.csv')\n",
    "_ = make_hists(airports, 'lat', 'long')"
   ]
  },
  {
   "cell_type": "code",
   "execution_count": 5,
   "metadata": {
    "collapsed": false,
    "deletable": false,
    "nbgrader": {
     "checksum": "96f006d28c5c55c2f561e08f82971fd8",
     "grade": true,
     "grade_id": "p1_test",
     "locked": true,
     "points": 5,
     "solution": false
    }
   },
   "outputs": [],
   "source": [
    "# assert tests\n",
    "airports = pd.read_csv('/home/data_scientist/data/airports.csv')\n",
    "\n",
    "axes = make_hists(airports, 'lat', 'long')\n",
    "\n",
    "lathist = axes[0]\n",
    "longhist = axes[1]\n",
    "\n",
    "# is the data in the plot right? are the axis limits right?\n",
    "assert_almost_equal(lathist.dataLim, [[7.367222, 0.0], [71.2854475, 1176.0]])\n",
    "assert_almost_equal(longhist.dataLim, [[-176.6460306, 0.0], [145.621384, 2195.0]])\n",
    "\n",
    "# height and width tests\n",
    "assert_equal(lathist.get_figure().get_figwidth(), 12.0)\n",
    "assert_equal(lathist.get_figure().get_figheight(), 9.0)\n",
    "\n",
    "# plt.savefig('p1_example.png')\n",
    "\n",
    "plt.close()"
   ]
  },
  {
   "cell_type": "markdown",
   "metadata": {
    "deletable": false,
    "nbgrader": {
     "checksum": "1fc009d5443d8fde7cc18cac1255e285",
     "grade": false,
     "grade_id": "p2_title",
     "locked": true,
     "solution": false
    }
   },
   "source": [
    "# Problem 2.\n",
    "\n",
    "This time make a single scatterplot with col1 (lat) on the y axis and col2 (long) on the x axis. Make this plot 12 by 6 and again use the plot method of a dataframe, but don't set the x or y limits. \n",
    "\n",
    "![Example P2](p2_example.png)"
   ]
  },
  {
   "cell_type": "code",
   "execution_count": 6,
   "metadata": {
    "collapsed": false,
    "deletable": false,
    "nbgrader": {
     "checksum": "60c6f2a9ed35a2dc261e8bb772cb1995",
     "grade": false,
     "grade_id": "p2_answer",
     "locked": false,
     "solution": true
    }
   },
   "outputs": [],
   "source": [
    "def make_scatter(df, col1, col2):\n",
    "    \n",
    "    '''\n",
    "    Makes a scatterplot for columns of a dataframe, namely the lat and \n",
    "    long columns of the airports data\n",
    "    \n",
    "    Params\n",
    "    -------\n",
    "    df: the dataframe to plot\n",
    "    col1: the column to plot on the y axis\n",
    "    col2: the column to plot on the x axis\n",
    "    \n",
    "    Returns\n",
    "    -------\n",
    "    A matplotlib.axes._subplots.AxesSubplot object\n",
    "    \n",
    "    '''\n",
    "    # Create a figure and ax and make the entire plot 12 by 6\n",
    "    fig, ax = plt.subplots(figsize=(12,6))\n",
    "    # Plot a scatter plot on the ax and set the title\n",
    "    df.plot(kind = 'scatter', ax = ax, x = col2, y = col1, title = 'Latitudes and Longitudes of US Airports')\n",
    "    \n",
    "    return ax"
   ]
  },
  {
   "cell_type": "code",
   "execution_count": 7,
   "metadata": {
    "collapsed": false,
    "deletable": false,
    "nbgrader": {
     "checksum": "208b954e3ece30f58f8f396301e67365",
     "grade": false,
     "grade_id": "show_p2",
     "locked": true,
     "solution": false
    }
   },
   "outputs": [
    {
     "data": {
      "image/png": "[encoded data removed]",
      "text/plain": [
       "<matplotlib.figure.Figure at 0x7fb8c04fba20>"
      ]
     },
     "metadata": {},
     "output_type": "display_data"
    }
   ],
   "source": [
    "_ = make_scatter(airports, 'lat', 'long')"
   ]
  },
  {
   "cell_type": "code",
   "execution_count": 8,
   "metadata": {
    "collapsed": false,
    "deletable": false,
    "nbgrader": {
     "checksum": "22331cfb696de405901b037af12451ba",
     "grade": true,
     "grade_id": "p2_test",
     "locked": true,
     "points": 5,
     "solution": false
    }
   },
   "outputs": [],
   "source": [
    "# assert tests\n",
    "airports = pd.read_csv('/home/data_scientist/data/airports.csv')\n",
    "p2_ax = make_scatter(airports, 'lat', 'long')\n",
    "\n",
    "# are the data limits correct?\n",
    "assert_almost_equal(p2_ax.dataLim, [[-176.6490360677117, 7.361211064576615], [145.62438946771172, 71.29145843542341]], decimal=0)\n",
    "\n",
    "# height and width tests\n",
    "assert_equal(p2_ax.get_figure().get_figwidth(), 12.0)\n",
    "assert_equal(p2_ax.get_figure().get_figheight(), 6.0)\n",
    "\n",
    "# plt.savefig('p2_example.png')\n",
    "\n",
    "plt.close()"
   ]
  },
  {
   "cell_type": "markdown",
   "metadata": {
    "deletable": false,
    "nbgrader": {
     "checksum": "41305a534d7663e4444810ee2b5bcbc2",
     "grade": false,
     "grade_id": "p2_notes",
     "locked": true,
     "solution": false
    }
   },
   "source": [
    "What are those points to the bottom right? They are certainly *outliers*, but are they due to measurement error? What about errors in the data or code used to produce the plot? Ponder this question and ask yourself how it could be solved through domain knowledge."
   ]
  },
  {
   "cell_type": "markdown",
   "metadata": {
    "deletable": false,
    "nbgrader": {
     "checksum": "edee063244798b2b951bc62a70659e50",
     "grade": false,
     "grade_id": "p3_title",
     "locked": true,
     "solution": false
    }
   },
   "source": [
    "# Problem 3.\n",
    "\n",
    "Now that we've seen the data, we'll shift into creating some summary statistics. Write a function that takes a pandas series and returns a [five-number summary](https://en.wikipedia.org/wiki/Five-number_summary). Your output should be a tuple with 5 elements in the following form:\n",
    "\n",
    "`(minimum, 25th percentile, median, 75th percentile, maximum)`"
   ]
  },
  {
   "cell_type": "code",
   "execution_count": 9,
   "metadata": {
    "collapsed": false,
    "deletable": false,
    "nbgrader": {
     "checksum": "d5a4e327af4dbac66a64035b5a3496bf",
     "grade": false,
     "grade_id": "p3_answer",
     "locked": false,
     "solution": true
    }
   },
   "outputs": [],
   "source": [
    "def five_number_summary(series):\n",
    "    \n",
    "    '''\n",
    "    Produces a five-number summary for a Pandas Series.\n",
    "    \n",
    "    Params\n",
    "    -------\n",
    "    series: a Pandas Series\n",
    "    \n",
    "    Returns\n",
    "    -------\n",
    "    A 5-tuple consisting of the min, 25Q, median, 75Q, and max, \n",
    "    in that order\n",
    "    \n",
    "    '''\n",
    "    # Find the minimum of the series\n",
    "    minimum = series.min()\n",
    "    # Find the 25th percentile of the series\n",
    "    twenty_fifth_percentile = series.quantile(0.25)\n",
    "    # Find the median of the series\n",
    "    median = series.median()\n",
    "    # Find the 75th percentile of the series\n",
    "    seventy_fifth_percentile = series.quantile(0.75)\n",
    "    # Find the maximum of the series\n",
    "    maximum = series.max()\n",
    "    # Assign the five-number summary to a tuple called result\n",
    "    result = tuple([minimum, twenty_fifth_percentile, median, seventy_fifth_percentile, maximum])\n",
    "    \n",
    "    return result"
   ]
  },
  {
   "cell_type": "code",
   "execution_count": 10,
   "metadata": {
    "collapsed": false,
    "deletable": false,
    "nbgrader": {
     "checksum": "015d933b1b1f7962ce5f7ba8c12652bd",
     "grade": true,
     "grade_id": "p3_test",
     "locked": true,
     "points": 5,
     "solution": false
    }
   },
   "outputs": [],
   "source": [
    "# assert tests\n",
    "airports = pd.read_csv('/home/data_scientist/data/airports.csv')\n",
    "\n",
    "fns_lat = five_number_summary(airports.lat)\n",
    "fns_lon = five_number_summary(airports.long)\n",
    "\n",
    "assert_equal(type(fns_lat), tuple)\n",
    "assert_equal(type(fns_lon), tuple)\n",
    "assert_equal(len(fns_lat), 5)\n",
    "assert_equal(len(fns_lon), 5)\n",
    "\n",
    "assert_almost_equal(fns_lat,\n",
    "                    [7.3672219999999999, 34.688427154999999,\n",
    "                      39.434449305000001, 43.372612357500003,\n",
    "                      71.285447500000004], decimal=2)\n",
    "\n",
    "assert_almost_equal(fns_lon,\n",
    "                    [-176.64603059999999, -108.76112075,\n",
    "                     -93.599425414999999, -84.137518542500004,\n",
    "                     145.62138400000001], decimal=2)\n"
   ]
  },
  {
   "cell_type": "markdown",
   "metadata": {
    "collapsed": true,
    "deletable": false,
    "nbgrader": {
     "checksum": "56431979ea3ed0eae8eec210770c8dca",
     "grade": false,
     "grade_id": "p4_title",
     "locked": true,
     "solution": false
    }
   },
   "source": [
    "# Problem 4\n",
    "\n",
    "In the next two problems we will *gently* introduce the concept of [Bootstrap Resampling][1] for parameter estimation. This concept is closely related to standard errors and confidence intervals from the reading. Consider a situation where we want to know the average latitude and/or longitude of US airports. We can easily calculate this outright, because our data includes the entire population of US airports. But pretend we only have a random sample of 1000 US airports:\n",
    "\n",
    "[1]: https://en.wikipedia.org/wiki/Bootstrapping_(statistics)"
   ]
  },
  {
   "cell_type": "code",
   "execution_count": 11,
   "metadata": {
    "collapsed": true,
    "deletable": false,
    "nbgrader": {
     "checksum": "27ee064eacb40b093004a53da0885c07",
     "grade": false,
     "grade_id": "show_df_sample",
     "locked": true,
     "solution": false
    }
   },
   "outputs": [],
   "source": [
    "df = pd.read_csv('/home/data_scientist/data/airports.csv')\n",
    "df = df.sample(1000, random_state = 0)"
   ]
  },
  {
   "cell_type": "markdown",
   "metadata": {
    "deletable": false,
    "nbgrader": {
     "checksum": "bbe68784807e9ebfeb5f8a0869ccee6e",
     "grade": false,
     "grade_id": "p4_description",
     "locked": true,
     "solution": false
    }
   },
   "source": [
    "Now we can still calculate the mean latitude and mean longitude for this sample, but we are not sure how close we can expect this to be to the mean latitude and longitude for **all** US airports.<sup>1</sup> It turns out that if we repeatedly sample our data (`df`) **with replacement** and calculate the mean, we will actually be simulating the [sampling distribution](https://en.wikipedia.org/wiki/Sampling_distribution) of the sample mean. This is basically the *distribution of our mean statistic*, and from that we can easily calculate things like standard error, confidence intervals, etc. for the mean latitude and mean longitude of US airports.\n",
    "\n",
    "\n",
    "First write a function that takes a Pandas Series and samples it *with replacement*. The sample size should be the same as the length of the series, and it should return another series of the same dimension."
   ]
  },
  {
   "cell_type": "code",
   "execution_count": 12,
   "metadata": {
    "collapsed": true,
    "deletable": false,
    "nbgrader": {
     "checksum": "2a314b957c105a2662d509fa30ae4584",
     "grade": false,
     "grade_id": "p4_answer",
     "locked": false,
     "solution": true
    }
   },
   "outputs": [],
   "source": [
    "def bootstrap_sample(series):\n",
    "    \n",
    "    '''\n",
    "    Produces a bootstrap sample of a Pandas Series\n",
    "    \n",
    "    Params\n",
    "    -------\n",
    "    series: a Pandas Series\n",
    "    random_state: to be passed to the sample method\n",
    "    \n",
    "    Returns\n",
    "    -------\n",
    "    A Series that is a sample with replacement of the \n",
    "    original series (of the same length)\n",
    "    \n",
    "    '''\n",
    "    # Conduct a sampling with replacement with the sample size of the length of series. \n",
    "    result = series.sample(len(series), replace = True)\n",
    "    \n",
    "    return result"
   ]
  },
  {
   "cell_type": "code",
   "execution_count": 13,
   "metadata": {
    "collapsed": false,
    "deletable": false,
    "nbgrader": {
     "checksum": "07ef8d17b6f781039f772b18c7b911c4",
     "grade": true,
     "grade_id": "p4_tests",
     "locked": true,
     "points": 5,
     "solution": false
    }
   },
   "outputs": [],
   "source": [
    "df = pd.read_csv('/home/data_scientist/data/airports.csv')\n",
    "df = df.sample(1000, random_state = 0)\n",
    "\n",
    "# are you returning a series\n",
    "assert_equal(type(bootstrap_sample(df.lat)), pd.Series)\n",
    "assert_equal(type(bootstrap_sample(df.long)), pd.Series)\n",
    "\n",
    "# is n correct? is the shape right?\n",
    "assert_equal(bootstrap_sample(df.lat).shape, (1000,))\n",
    "assert_equal(bootstrap_sample(df.long).shape, (1000,))\n",
    "\n",
    "# are you sampling with replacement\n",
    "assert(len(bootstrap_sample(df.lat).unique()) < len(df.lat.unique()))\n",
    "assert(len(bootstrap_sample(df.long).unique()) < len(df.long.unique()))\n",
    "\n",
    "# are all the items of the sample contained in the original data?\n",
    "assert(set(bootstrap_sample(df.lat).unique()).issubset(set(df.lat)))\n",
    "assert(set(bootstrap_sample(df.long).unique()).issubset(set(df.long)))"
   ]
  },
  {
   "cell_type": "markdown",
   "metadata": {
    "deletable": false,
    "nbgrader": {
     "checksum": "387f23ec4d29887290f4f57c12f011b3",
     "grade": false,
     "grade_id": "p5_title",
     "locked": true,
     "solution": false
    }
   },
   "source": [
    "# Problem 5\n",
    "\n",
    "Now you want to repeatedly generate bootstrap samples and calculate the mean. In this function, generate a bootstrap sample of a series and take the mean. Do this `num_times` and store the results in a Pandas Series. You should generate a new bootstrap sample each time you calculate the mean, and your result should be of length `num_times`. If you do this correctly, you'll produce data that looks normally distributed. To be clear, here is the algorithm (though not necessarily how you must write your code):\n",
    "\n",
    "```\n",
    "for i in 1:num_times:\n",
    "    generate a bootstrap sample of series\n",
    "    calculate the mean of that bootstrap sample\n",
    "    store the mean in the result series\n",
    "```"
   ]
  },
  {
   "cell_type": "code",
   "execution_count": 14,
   "metadata": {
    "collapsed": false,
    "deletable": false,
    "nbgrader": {
     "checksum": "8f1e99d0a9e10925f8960d94c41085b5",
     "grade": false,
     "grade_id": "p5_answer",
     "locked": false,
     "solution": true
    }
   },
   "outputs": [],
   "source": [
    "def bootstrap_mean(series, num_times = 1000):\n",
    "    \n",
    "    '''\n",
    "    Produces a sampling distribution of the sample mean of a \n",
    "    Pandas Series\n",
    "    \n",
    "    Params\n",
    "    -------\n",
    "    series: a Pandas Series\n",
    "    num_times: the number of iterations to run\n",
    "    \n",
    "    Returns\n",
    "    -------\n",
    "    A Series that is of length num_times with each entry being the mean\n",
    "    of a bootstrap sample of series\n",
    "    '''\n",
    "    # Create an empty list to store the mean of each sampling.\n",
    "    result = []\n",
    "    # Use a for loop to do a sampling for num_times times\n",
    "    for i in range(num_times):\n",
    "        # Calculate the mean of each sampling\n",
    "        mean = bootstrap_sample(series).mean()\n",
    "        # Append the mean to the list called 'result'\n",
    "        result.append(mean)\n",
    "    # Convert the list 'result' to a Pandas Series\n",
    "    result = pd.Series(result)\n",
    "    return result"
   ]
  },
  {
   "cell_type": "code",
   "execution_count": 15,
   "metadata": {
    "collapsed": false,
    "deletable": false,
    "nbgrader": {
     "checksum": "c93eb2d447d4f8e00acaab88b7b14948",
     "grade": true,
     "grade_id": "p5_tests",
     "locked": true,
     "points": 10,
     "solution": false
    }
   },
   "outputs": [],
   "source": [
    "df = pd.read_csv('/home/data_scientist/data/airports.csv')\n",
    "df = df.sample(1000, random_state = 0)\n",
    "\n",
    "sampling_dist_of_mean_lat = bootstrap_mean(df.lat)\n",
    "sampling_dist_of_mean_long = bootstrap_mean(df.long)\n",
    "\n",
    "# are you returning a series\n",
    "assert_equal(type(sampling_dist_of_mean_lat), pd.Series)\n",
    "assert_equal(type(sampling_dist_of_mean_long), pd.Series)\n",
    "\n",
    "# is n correct? is the shape right?\n",
    "assert_equal(sampling_dist_of_mean_lat.shape, (1000,))\n",
    "assert_equal(sampling_dist_of_mean_long.shape, (1000,))\n",
    "\n",
    "assert_almost_equal(sampling_dist_of_mean_lat.describe().values[[0,1,2]], \n",
    "                    [1000, 40.103375, 0.271926], decimal=0)\n",
    "\n",
    "assert_almost_equal(sampling_dist_of_mean_long.describe().values[[0,1,2]], \n",
    "                    [1000, -99.951699, 0.698565], decimal=0)"
   ]
  },
  {
   "cell_type": "markdown",
   "metadata": {
    "deletable": false,
    "nbgrader": {
     "checksum": "fb4d07d41432662caf5d099278875de9",
     "grade": false,
     "grade_id": "plotting",
     "locked": true,
     "solution": false
    }
   },
   "source": [
    "## Plotting"
   ]
  },
  {
   "cell_type": "code",
   "execution_count": 16,
   "metadata": {
    "collapsed": false,
    "deletable": false,
    "nbgrader": {
     "checksum": "93bf85c720d6aa32981b80e463dacc85",
     "grade": false,
     "grade_id": "plot1",
     "locked": true,
     "solution": false
    }
   },
   "outputs": [
    {
     "data": {
      "image/png": "[encoded data removed]",
      "text/plain": [
       "<matplotlib.figure.Figure at 0x7fb8c05159e8>"
      ]
     },
     "metadata": {},
     "output_type": "display_data"
    }
   ],
   "source": [
    "sampling_dist_of_mean_lat.plot(kind='hist', \n",
    "                               title='Sampling Distribution of Mean of Latitudes')\n",
    "plt.show()"
   ]
  },
  {
   "cell_type": "code",
   "execution_count": null,
   "metadata": {
    "collapsed": false,
    "deletable": false,
    "nbgrader": {
     "checksum": "65191b4bdad0359a32f7f4db7bce0cd8",
     "grade": false,
     "grade_id": "plot2",
     "locked": true,
     "solution": false
    }
   },
   "outputs": [
    {
     "data": {
      "image/png": "[encoded data removed]",
      "text/plain": [
       "<matplotlib.figure.Figure at 0x7fb8c054d748>"
      ]
     },
     "metadata": {},
     "output_type": "display_data"
    }
   ],
   "source": [
    "sampling_dist_of_mean_long.plot(kind='hist', \n",
    "                                title='Sampling Distribution of Mean of Longitudes')\n",
    "plt.show()"
   ]
  },
  {
   "cell_type": "markdown",
   "metadata": {
    "deletable": false,
    "nbgrader": {
     "checksum": "1e54876d32c1970091ded48cc0837b84",
     "grade": false,
     "grade_id": "notes_on_CLT",
     "locked": true,
     "solution": false
    }
   },
   "source": [
    "Notice that regardless of the underlying distribution of the data the mean appears to be normally distributed."
   ]
  },
  {
   "cell_type": "code",
   "execution_count": null,
   "metadata": {
    "collapsed": false,
    "deletable": false,
    "nbgrader": {
     "checksum": "7c239584d196a69401c9c5b673995199",
     "grade": false,
     "grade_id": "plot3",
     "locked": true,
     "solution": false
    }
   },
   "outputs": [],
   "source": [
    "fig, (ax1, ax2) = plt.subplots(2, sharex=True, figsize=(12,9))\n",
    "airports.lat.plot(kind='hist', ax=ax1, xlim=(20,60), bins=40)\n",
    "sampling_dist_of_mean_lat.plot(kind='hist', ax =ax2)\n",
    "ax1.set_title('Distribution of Latitudes', size=16)\n",
    "ax2.set_title('Sampling Distribution of Mean of Latitudes', size=16)\n",
    "plt.show()"
   ]
  },
  {
   "cell_type": "code",
   "execution_count": null,
   "metadata": {
    "collapsed": false,
    "deletable": false,
    "nbgrader": {
     "checksum": "df869e8a19d781116f1af01bf469502d",
     "grade": false,
     "grade_id": "plot4",
     "locked": true,
     "solution": false
    }
   },
   "outputs": [],
   "source": [
    "fig, (ax1, ax2) = plt.subplots(2, sharex=True, figsize=(12,9))\n",
    "airports.long.plot(kind='hist', ax=ax1, xlim=(-180, -60), bins=40)\n",
    "sampling_dist_of_mean_long.plot(kind='hist', ax =ax2)\n",
    "ax1.set_title('Distribution of Longitudes', size=16)\n",
    "ax2.set_title('Sampling Distribution of Mean of Longitudes', size=16)\n",
    "plt.show()"
   ]
  },
  {
   "cell_type": "markdown",
   "metadata": {
    "deletable": false,
    "nbgrader": {
     "checksum": "162e2fa34ed192540015184a0a233da2",
     "grade": false,
     "grade_id": "footnotes",
     "locked": true,
     "solution": false
    }
   },
   "source": [
    "<sup>1</sup> Technically, the mean is always normally distributed for a large sample due to Central Limit Theorem and the mean and variance of that normal distribution can be calculated from the sample, but pretend we don't know that."
   ]
  },
  {
   "cell_type": "code",
   "execution_count": null,
   "metadata": {
    "collapsed": true
   },
   "outputs": [],
   "source": []
  }
 ],
 "metadata": {
  "kernelspec": {
   "display_name": "Python 3",
   "language": "python",
   "name": "python3"
  },
  "language_info": {
   "codemirror_mode": {
    "name": "ipython",
    "version": 3
   },
   "file_extension": ".py",
   "mimetype": "text/x-python",
   "name": "python",
   "nbconvert_exporter": "python",
   "pygments_lexer": "ipython3",
   "version": "3.5.2"
  }
 },
 "nbformat": 4,
 "nbformat_minor": 0
}
