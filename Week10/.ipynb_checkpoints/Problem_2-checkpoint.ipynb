{
 "cells": [
  {
   "cell_type": "markdown",
   "metadata": {
    "deletable": false,
    "nbgrader": {
     "checksum": "f21c4287e894192630e99ae53df2e802",
     "grade": false,
     "grade_id": "header",
     "locked": true,
     "solution": false
    }
   },
   "source": [
    "# Week 10 Problem 2\n",
    "\n",
    "If you are not using the `Assignments` tab on the course JupyterHub server to read this notebook, read [Activating the assignments tab](https://github.com/UI-DataScience/info490-fa16/blob/master/Week2/assignments/README.md).\n",
    "\n",
    "A few things you should keep in mind when working on assignments:\n",
    "\n",
    "1. Make sure you fill in any place that says `YOUR CODE HERE`. Do **not** write your answer in anywhere else other than where it says `YOUR CODE HERE`. Anything you write anywhere else will be removed or overwritten by the autograder.\n",
    "\n",
    "2. Before you submit your assignment, make sure everything runs as expected. Go to menubar, select _Kernel_, and restart the kernel and run all cells (_Restart & Run all_).\n",
    "\n",
    "3. Do not change the title (i.e. file name) of this notebook.\n",
    "\n",
    "4. Make sure that you save your work (in the menubar, select _File_ → _Save and CheckPoint_)\n",
    "\n",
    "5. You are allowed to submit an assignment multiple times, but only the most recent submission will be graded."
   ]
  },
  {
   "cell_type": "code",
   "execution_count": 1,
   "metadata": {
    "collapsed": false,
    "deletable": false,
    "nbgrader": {
     "checksum": "fb7628bf9bce8a7848b6e325e9926327",
     "grade": false,
     "grade_id": "import",
     "locked": true,
     "solution": false
    }
   },
   "outputs": [],
   "source": [
    "%matplotlib inline\n",
    "\n",
    "from nose.tools import assert_equal, assert_is_instance, assert_is_not, assert_almost_equal\n",
    "from numpy.testing import assert_array_equal\n",
    "import numpy as np\n",
    "import pandas as pd\n",
    "import seaborn as sns\n",
    "import matplotlib.pyplot as plt\n",
    "import matplotlib as mpl"
   ]
  },
  {
   "cell_type": "markdown",
   "metadata": {
    "deletable": false,
    "nbgrader": {
     "checksum": "e799c1126aba142b413bb17e7611aa56",
     "grade": false,
     "grade_id": "import_data_exp",
     "locked": true,
     "solution": false
    }
   },
   "source": [
    "Since we will be working with the 2001.csv data set, I'll just import it for you:"
   ]
  },
  {
   "cell_type": "code",
   "execution_count": 2,
   "metadata": {
    "collapsed": false,
    "deletable": false,
    "nbgrader": {
     "checksum": "c2261ef0e80a9aa225374e6acceff917",
     "grade": false,
     "grade_id": "import_data",
     "locked": true,
     "solution": false
    }
   },
   "outputs": [],
   "source": [
    "df = pd.read_csv(\n",
    "    \"/home/data_scientist/data/2001.csv\", # edit this path if necessary\n",
    "    encoding=\"latin-1\",\n",
    "    usecols=[\"DepDelay\"]\n",
    "    )"
   ]
  },
  {
   "cell_type": "markdown",
   "metadata": {
    "deletable": false,
    "nbgrader": {
     "checksum": "7a4e4ed972fefc4d7fc3c485ad1c4846",
     "grade": false,
     "grade_id": "p1_title",
     "locked": true,
     "solution": false
    }
   },
   "source": [
    "# PMF and CDF\n",
    "\n",
    "In this assignment, we will compute and plot the probability mass function and cumulative distribution function of departure delay from 2001 flight data.\n",
    "\n",
    "Before you start on this assignment, please note that the plots shown here in the instructions are just examples, not answers.  Your plots may look different (within reasonable limits, of course).\n",
    "\n",
    "## Problem 1: Plot Probability Mass Function\n",
    "\n",
    "Here, we will be plotting the PMF of the departure delay with a function called `plot_pmf()`.  Please note that Pandas will automatically repalce missing values (denoted by 'NA') with numpy.nan or NaN (Not A Number).  You have to remove rows with missing values.\n",
    "\n",
    "What you should find is that the shape of the PMF depends considerably on the size of the bins.  Also, you will notice that getting the size of the bins right is difficult, and sometimes the plots are hard to interpret due to spikes.  Here are some examples:\n",
    "\n",
    "![PMF plot 50 bins](PMF_50.png)\n",
    "![PMF plot 200 bins](PMF_200.png)\n",
    "\n",
    "\n",
    "As you will see, the CDF avoids these problems.\n",
    "\n",
    "In order for your plot to be graded correctly, you MUST do the following things while graphing:\n",
    "\n",
    "- The range of your histogram should be from -100 to 100 (this is different from your x_limit!)\n",
    "- Your plot should have a title, as well as x- and y-axis labels "
   ]
  },
  {
   "cell_type": "code",
   "execution_count": 3,
   "metadata": {
    "collapsed": false,
    "deletable": false,
    "nbgrader": {
     "checksum": "0a35fb710f986854a4f1533be278dc40",
     "grade": false,
     "grade_id": "p1_answer",
     "locked": false,
     "solution": true
    }
   },
   "outputs": [],
   "source": [
    "def plot_pmf(df, column, nbins=200):\n",
    "    \"\"\"\n",
    "    Plots the PMF of the specified column of the input Pandas dataframe.\n",
    "    \n",
    "    Parameters\n",
    "    ----------\n",
    "    df (pandas.DataFrame): input dataframe.\n",
    "    column (str): target column\n",
    "    \n",
    "    Returns\n",
    "    -------\n",
    "    A matplotlib.Axes instance.\n",
    "    \"\"\"\n",
    "    # Remove the rows with missing values\n",
    "    df.dropna()\n",
    "    # Create the figure and ax for further plot\n",
    "    fig, ax = plt.subplots()\n",
    "    # Plot the histogram, set the norm_hist to True in order to plot pmf and set the range of the histogram from -100 to 100\n",
    "    sns.distplot(df[column], kde = False, norm_hist = True, bins = nbins, hist_kws = {'range': (-100, 100)})\n",
    "    # Set the title of the plot\n",
    "    ax.set_title('Probability mass function of {0}'.format(column))\n",
    "    # Set the xlabel of the plot\n",
    "    ax.set_xlabel(column)\n",
    "    # Set the ylabel of the plot\n",
    "    ax.set_ylabel('Probability')\n",
    "    \n",
    "    return ax"
   ]
  },
  {
   "cell_type": "code",
   "execution_count": 4,
   "metadata": {
    "collapsed": false,
    "deletable": false,
    "nbgrader": {
     "checksum": "76a6c8213b5195996311bccd4da6d2eb",
     "grade": true,
     "grade_id": "cube_test",
     "locked": true,
     "points": 5,
     "solution": false
    }
   },
   "outputs": [
    {
     "data": {
      "image/png": "[encoded data removed]",
      "text/plain": [
       "<matplotlib.figure.Figure at 0x7f528ce45da0>"
      ]
     },
     "metadata": {},
     "output_type": "display_data"
    }
   ],
   "source": [
    "ax = plot_pmf(df, \"DepDelay\", nbins=50)\n",
    "\n",
    "assert_is_instance(\n",
    "    ax, mpl.axes.Axes,\n",
    "    msg=\"Your function should return a matplotlib.axes.Axes object.\"\n",
    ")\n",
    "\n",
    "assert_is_not(\n",
    "    len(ax.title.get_text()), 0,\n",
    "    msg=\"Your plot doesn't have a title.\"\n",
    ")\n",
    "\n",
    "assert_is_not(\n",
    "    ax.xaxis.get_label_text(), '',\n",
    "    msg=\"Change the x-axis label to something more descriptive.\"\n",
    ")\n",
    "\n",
    "assert_is_not(\n",
    "    ax.yaxis.get_label_text(), '',\n",
    "    msg=\"Change the y-axis label to something more descriptive.\"\n",
    ")\n",
    "\n",
    "# check data\n",
    "assert_equal(\n",
    "    len(ax.patches), 50,\n",
    "    msg=\"Your plot does not have enough data patches.\"\n",
    ")\n",
    "\n",
    "ydata = [p.get_height() for p in ax.patches]\n",
    "y_hist = [0.0, 0.0, 0.0, 0.0, 0.0, 0.0, 4.437145438800849e-08, 4.437145438800849e-08, 1.7748581755203395e-07, 1.7748581755203395e-07, 2.2185727194004246e-07, 3.549716351040679e-07, 3.106001807160594e-07, 1.0205434509241952e-06, 1.2424007228642377e-06, 2.0410869018483904e-06, 3.194744715936611e-06, 6.655718158201273e-06, 1.3843893769058649e-05, 2.2008241376452212e-05, 6.305183668536006e-05, 0.0003161022410601725, 0.0033129946418806538, 0.031025674565909624, 0.07306558651164582, 0.06908054182160439, 0.018109942879739337, 0.011478717764360245, 0.008113276063392964, 0.005265915463860071, 0.004741711101720139, 0.0037083886719321978, 0.0031210437301981294, 0.0026065123451147827, 0.0019469306756370365, 0.0019154269430215504, 0.0016361973805578132, 0.0014405636381610836, 0.0012858403767100981, 0.0010165943914836625, 0.0010616757891418792, 0.0009112565587665304, 0.0008192745338201887, 0.000741668860095562, 0.0006099300120175647, 0.0006120598418281892, 0.000528064678671689, 0.0004877310266329893, 0.0004364376253604515, 0.0004895502562628977]\n",
    "assert_array_equal(ydata, y_hist)\n",
    "assert_almost_equal(max(ydata),0.07306558651164582)"
   ]
  },
  {
   "cell_type": "code",
   "execution_count": 5,
   "metadata": {
    "collapsed": false,
    "deletable": false,
    "nbgrader": {
     "checksum": "9e43816414913f9fcf3df1ab5579f376",
     "grade": true,
     "grade_id": "pmf__test_2",
     "locked": true,
     "points": 5,
     "solution": false
    }
   },
   "outputs": [
    {
     "data": {
      "image/png": "[encoded data removed]",
      "text/plain": [
       "<matplotlib.figure.Figure at 0x7f526ed51d68>"
      ]
     },
     "metadata": {},
     "output_type": "display_data"
    }
   ],
   "source": [
    "ax = plot_pmf(df, \"DepDelay\", nbins=200)\n",
    "\n",
    "assert_is_instance(\n",
    "    ax, mpl.axes.Axes,\n",
    "    msg=\"Your function should return a matplotlib.axes.Axes object.\"\n",
    ")\n",
    "\n",
    "assert_is_not(\n",
    "    len(ax.title.get_text()), 0,\n",
    "    msg=\"Your plot doesn't have a title.\"\n",
    ")\n",
    "\n",
    "assert_is_not(\n",
    "    ax.xaxis.get_label_text(), '',\n",
    "    msg=\"Change the x-axis label to something more descriptive.\"\n",
    ")\n",
    "\n",
    "assert_is_not(\n",
    "    ax.yaxis.get_label_text(), '',\n",
    "    msg=\"Change the y-axis label to something more descriptive.\"\n",
    ")\n",
    "\n",
    "# check data\n",
    "assert_equal(\n",
    "    len(ax.patches), 200,\n",
    "    msg=\"Your plot does not have enough data patches.\"\n",
    ")\n",
    "\n",
    "ydata = [p.get_height() for p in ax.patches]\n",
    "y_hist = [0.0, 0.0, 0.0, 0.0, 0.0, 0.0, 0.0, 0.0, 0.0, 0.0, 0.0, 0.0, 0.0, 0.0, 0.0, 0.0, 0.0, 0.0, 0.0, 0.0, 0.0, 0.0, 0.0, 0.0, 0.0, 1.7748581755203395e-07, 0.0, 0.0, 0.0, 0.0, 0.0, 1.7748581755203395e-07, 0.0, 3.549716351040679e-07, 1.7748581755203395e-07, 1.7748581755203395e-07, 0.0, 1.7748581755203395e-07, 3.549716351040679e-07, 1.7748581755203395e-07, 5.324574526561019e-07, 3.549716351040679e-07, 0.0, 0.0, 5.324574526561019e-07, 1.7748581755203395e-07, 3.549716351040679e-07, 3.549716351040679e-07, 5.324574526561019e-07, 5.324574526561019e-07, 0.0, 1.7748581755203395e-07, 3.549716351040679e-07, 5.324574526561019e-07, 1.4198865404162716e-06, 1.7748581755203397e-06, 1.4198865404162716e-06, 1.2424007228642377e-06, 8.874290877601698e-07, 1.4198865404162716e-06, 2.6622872632805093e-06, 1.4198865404162716e-06, 1.5973723579683056e-06, 2.4848014457284754e-06, 1.9523439930723736e-06, 4.792117073904917e-06, 2.6622872632805093e-06, 3.3722305334886455e-06, 3.7272021685927133e-06, 4.614631256352883e-06, 9.761719965361868e-06, 8.51931924249763e-06, 9.761719965361868e-06, 1.2069035593538309e-05, 1.4553837039266785e-05, 1.8990982478067634e-05, 1.4731322856818818e-05, 2.1298298106244075e-05, 2.4138071187076617e-05, 2.7865273355669333e-05, 5.64404899815468e-05, 4.508139765821663e-05, 6.265249359586799e-05, 8.803296550580885e-05, 0.0001368415653326182, 0.00026516381142273874, 0.0003015484040209057, 0.0005608551834644273, 0.0009633930176724403, 0.0017272919764163945, 0.004229487032264969, 0.006331806541168812, 0.011520249445667421, 0.01993573948489711, 0.03319534994257446, 0.0594513593904995, 0.06942162519148501, 0.0776535948953659, 0.07692963024557115, 0.06825749571416122, 0.19011659575812445, 0.03524673102184087, 0.027746535343727022, 0.02321230516272521, 0.02005288012448145, 0.024321059064972766, 0.014352213150527674, 0.013713619178975456, 0.012540082953321407, 0.010535735615706287, 0.014735405030622515, 0.008103647457790767, 0.008240489023123385, 0.007690105502894527, 0.006927981402326094, 0.009594528325227851, 0.0054321309319975515, 0.005635529678912182, 0.005350132484288512, 0.004645868760242041, 0.007050979073889653, 0.003949591897985411, 0.004058035732509705, 0.003908237702495787, 0.0034877738007150195, 0.005186135588870432, 0.0030224059870935863, 0.0031372393110497524, 0.003115408555490852, 0.002710918377289767, 0.004248655500560589, 0.002409192487451309, 0.002488173676261964, 0.0024420273636984353, 0.002221235006663705, 0.0032746133338350265, 0.0019088599677721252, 0.0020577705686982816, 0.0020096719121416805, 0.0018114202539360586, 0.002695122139527636, 0.001614943453905957, 0.0017100758521138473, 0.001641566326538762, 0.0015043697895710398, 0.0022293993542710985, 0.0013543942737395712, 0.0014566261046495426, 0.0013978782990398196, 0.0012835774325363097, 0.0019212839750007676, 0.0011595148460674378, 0.0012100983040697676, 0.0012093883607995593, 0.0011144334484092212, 0.001609441393561844, 0.0009999550960881594, 0.001061010217326059, 0.0010590578733329866, 0.0009463543791874451, 0.0014914133248897414, 0.0008954159495500113, 0.0009388999748502596, 0.0009209739072775043, 0.0008435900908248175, 0.0012049512153607586, 0.0007832449128571258, 0.0008132400160234196, 0.0007931841186400398, 0.0007530723238732801, 0.0010478762668272084, 0.0006829654259402267, 0.0007110081851134481, 0.0006829654259402267, 0.0006595372980233582, 0.0009131645313052147, 0.0006036292654944675, 0.0006251050494182636, 0.0006396588864575304, 0.0005713268466999974, 0.0007999285797070171, 0.000543284087526776, 0.0005635174707277078, 0.0005415092293512556, 0.0005017524062196, 0.0006865151422912674, 0.00046590027107408917, 0.0004580908951017997, 0.00048826348408564544, 0.00045649352274383133, 0.0006029193222242594, 0.00040324777747822115, 0.0004273858486652978, 0.0004170916712472798, 0.0003803521070140088, 0.0005209208745152197, 0.0003647333550694298, 0.00037857724883848845, 0.00037999713537890473, 0.0008348932857647677]\n",
    "assert_array_equal(ydata, y_hist)\n",
    "assert_almost_equal(max(ydata),0.19011659575812445)\n",
    "assert_almost_equal(min(ydata),0)"
   ]
  },
  {
   "cell_type": "markdown",
   "metadata": {
    "deletable": false,
    "nbgrader": {
     "checksum": "ac21f08df77f85f2a24aa44b41e7c934",
     "grade": false,
     "grade_id": "p2_title",
     "locked": true,
     "solution": false
    }
   },
   "source": [
    "## Problem 2: Find the Cumulative Distribution Function\n",
    "\n",
    "Here, we will be writing a function named `get_cdf()` that takes an array and returns a tuple that represents the `x` and `y` axes of the empirical CDF\n",
    "\n",
    "But before we do this, consider what Wikipedia has to say about [empirical distibution functions](https://en.wikipedia.org/wiki/Empirical_distribution_function):\n",
    "\n",
    "$$CDF(t)=\\frac{1}{n} \\cdot \\text{(number of elements in the sample} \\leq t)$$\n",
    "\n",
    "So, given the array, e.g. `[1, 2, 2, 3, 5]`, you could go through each value and count the number of elements smaller than 1, smaller than 2, etc. However, this method will be very inefficient and slow when teh input array is very large.  In python, when you are dealing with numerical operations on a potentially huge array, you should think of using Numpy (because the `for` loop of pure Python is very slow and often leads to code that is difficult to read and maintain).\n",
    "\n",
    "Here is a faster algorithm to produce the empirical CDF.  As an example, suppose the array has values `[2, 1, 2, 5, 3]`. \n",
    "\n",
    "1. Use numpy.sort() to sort the array (wiht no missing values) in ascending order.  In our case, this will result in:\n",
    "    `[1, 2, 2, 3, 5]`\n",
    "    This will be our x-axis of our CDF.\n",
    "\n",
    "2. Create an array of $0, \\frac{1}{N}, \\frac{2}{N}, ..., 1-\\frac{1}{N} $ where $N$ is the length of th einput array (5 in our example.  In our case, this will result in:\n",
    "    `[0.0, 0.2, 0.4, 0.6, 0.8]`\n",
    "    This will be our y-axis.  An easy way of doing this is using Numpy's arange() function and then dividing by N.\n",
    "    \n",
    "Once this is done, it is fairly simple to plot the CDF: simply use the x-axis found in step 1 and the y-axis from step 2.\n",
    "\n",
    "According to Wikipedia, the resulting empirical CDF is an unbiased estimator for the true CDF.\n",
    "\n",
    "Note: DO NOT use numpy.historgram() to create a cdf.  It uses binning, which might be useful in othercases, but not in this case.  The method I outlined above is a better characterization of the true CDF.\n"
   ]
  },
  {
   "cell_type": "code",
   "execution_count": 6,
   "metadata": {
    "collapsed": true,
    "deletable": false,
    "nbgrader": {
     "checksum": "2e9bda7c83dca8d39a33c624e08b75f7",
     "grade": false,
     "grade_id": "p2_answer",
     "locked": false,
     "solution": true
    }
   },
   "outputs": [],
   "source": [
    "def get_cdf(df, column):\n",
    "    '''\n",
    "    Reads a specific column of a Pandas DataFrame,\n",
    "    and returns a tuple of arrays that represent the x and y axes of\n",
    "    cumulative distribution function.\n",
    "    \n",
    "    Parameters\n",
    "    ----------\n",
    "    df (pandas.DataFrame): A pandas.DataFrame.\n",
    "    column (str): The header of the target column in df.\n",
    "    \n",
    "    Returns\n",
    "    -------\n",
    "    A tuple of two numpy arrays of equal length.\n",
    "    The first array represents the x axis of CDF.\n",
    "    The second array represents the y axis of CDF.\n",
    "    '''\n",
    "    # Remove the missing values in the input array\n",
    "    arr = df[column].dropna()\n",
    "    # Sort the array in ascending order  \n",
    "    cdf_x = np.sort(arr)\n",
    "    # Calculate the length of array \n",
    "    n = len(arr)\n",
    "    # Create an array with the same length with arr and Divide the array by the length of arr\n",
    "    cdf_y = np.arange(n)/n\n",
    "    \n",
    "    return cdf_x, cdf_y"
   ]
  },
  {
   "cell_type": "markdown",
   "metadata": {
    "deletable": false,
    "nbgrader": {
     "checksum": "45f02a0a183c6f62470a2bfc34580ac2",
     "grade": false,
     "grade_id": "warning",
     "locked": true,
     "solution": false
    }
   },
   "source": [
    "Make sure that your function passes all the tests."
   ]
  },
  {
   "cell_type": "code",
   "execution_count": 7,
   "metadata": {
    "collapsed": false,
    "deletable": false,
    "nbgrader": {
     "checksum": "fe8481f77ca6394729369bb61e3e2a27",
     "grade": true,
     "grade_id": "markdown_2",
     "locked": true,
     "points": 10,
     "solution": false
    }
   },
   "outputs": [],
   "source": [
    "test1 = pd.DataFrame(\n",
    "    {\n",
    "        \"a\": [1, 2, 2, 3, 5],\n",
    "        \"b\": [3, 2, 5, 1, 2],\n",
    "        }\n",
    "    )\n",
    "\n",
    "answer1 = np.array([1, 2, 2, 3, 5]), np.array([0.0, 0.2, 0.4, 0.6, 0.8])\n",
    "\n",
    "np.testing.assert_allclose(get_cdf(test1, \"a\")[0], answer1[0])\n",
    "np.testing.assert_allclose(get_cdf(test1, \"a\")[1], answer1[1])\n",
    "\n",
    "np.testing.assert_allclose(get_cdf(test1, \"b\")[0], answer1[0])\n",
    "np.testing.assert_allclose(get_cdf(test1, \"b\")[1], answer1[1])\n",
    "\n",
    "test2 = pd.DataFrame(\n",
    "    {\n",
    "        \"c\": [1, 2, 2, 3, 5, np.nan],\n",
    "        \"d\": [3, 2, 5, np.nan, 2, 1],\n",
    "        }\n",
    "    )\n",
    "\n",
    "answer2 = np.array([1, 2, 2, 3, 5]), np.array([0.0, 0.2, 0.4, 0.6, 0.8])\n",
    "\n",
    "np.testing.assert_allclose(get_cdf(test2, \"c\")[0], answer2[0])\n",
    "np.testing.assert_allclose(get_cdf(test2, \"c\")[1], answer2[1])\n",
    "\n",
    "np.testing.assert_allclose(get_cdf(test2, \"d\")[0], answer2[0])\n",
    "np.testing.assert_allclose(get_cdf(test2, \"d\")[1], answer2[1])"
   ]
  },
  {
   "cell_type": "markdown",
   "metadata": {
    "deletable": false,
    "nbgrader": {
     "checksum": "9dd968c59fc41aa796cb15b0bda338e0",
     "grade": false,
     "grade_id": "p3_title",
     "locked": true,
     "solution": false
    }
   },
   "source": [
    "## Problem 3: Plot the CDF\n",
    "\n",
    "Finally, now that you have a working way of finding the CDF of a set of data, let's put it to good use.  Let's use get_cdf() to create a CDF of the DepDelay column in 2001.csv, and then plot that data.  An example of this is shown below:\n",
    "\n",
    "![CDF plot](CDFplot.png)\n",
    "\n",
    "In order for your plot to pass it must have the following characteristics:\n",
    "- it must have a title, and an x- and y-axis title \n",
    "- the range of your x axis must be from -50 to 150\n"
   ]
  },
  {
   "cell_type": "code",
   "execution_count": 8,
   "metadata": {
    "collapsed": false,
    "deletable": false,
    "nbgrader": {
     "checksum": "b1bcaa8c561270457784017b2864223c",
     "grade": false,
     "grade_id": "markdown_1",
     "locked": false,
     "solution": true
    }
   },
   "outputs": [],
   "source": [
    "def plot_CDF():\n",
    "    \"\"\"\n",
    "    Plots the CDF \n",
    "    \n",
    "    Parameters\n",
    "    ----------\n",
    "    None\n",
    "    \n",
    "    Returns\n",
    "    -------\n",
    "    A matplotlib.Axes instance.\n",
    "    \"\"\"\n",
    "    # Create the figure and ax for further plot\n",
    "    fig, ax = plt.subplots()\n",
    "    # Obtain the x-axis and y-axis from the function get_cdf\n",
    "    x, y = get_cdf(df, 'DepDelay')\n",
    "    # Plot the cdf\n",
    "    ax.plot(x, y)\n",
    "    # Set the range of x-axis\n",
    "    ax.set_xlim((-50, 150))\n",
    "    # Set the title\n",
    "    ax.set_title(\"CDF of Departure Delay in 2001\")\n",
    "    # Set the xlabel\n",
    "    ax.set_xlabel(\"Departure delay (minutes)\")\n",
    "    # Set the ylabel\n",
    "    ax.set_ylabel(\"Probability\")\n",
    "    \n",
    "    return ax"
   ]
  },
  {
   "cell_type": "code",
   "execution_count": 9,
   "metadata": {
    "collapsed": false,
    "deletable": false,
    "nbgrader": {
     "checksum": "36bbb7850e55f2902b5c90e1dfb46d89",
     "grade": true,
     "grade_id": "markdown_3",
     "locked": true,
     "points": 5,
     "solution": false
    }
   },
   "outputs": [
    {
     "data": {
      "image/png": "[encoded data removed]",
      "text/plain": [
       "<matplotlib.figure.Figure at 0x7f525d6d9be0>"
      ]
     },
     "metadata": {},
     "output_type": "display_data"
    }
   ],
   "source": [
    "ax = plot_CDF()\n",
    "assert_is_instance(\n",
    "    ax, mpl.axes.Axes,\n",
    "    msg=\"Your function should return a matplotlib.axes.Axes object.\"\n",
    ")\n",
    "\n",
    "assert_equal(len(ax.lines), 1)\n",
    "\n",
    "assert_is_not(\n",
    "    len(ax.title.get_text()), 0,\n",
    "    msg=\"Your plot doesn't have a title.\"\n",
    ")\n",
    "assert_is_not(\n",
    "    ax.xaxis.get_label_text(), '',\n",
    "    msg=\"Change the x-axis label to something more descriptive.\"\n",
    ")\n",
    "assert_is_not(\n",
    "    ax.yaxis.get_label_text(), '',\n",
    "    msg=\"Change the y-axis label to something more descriptive.\"\n",
    ")\n",
    "    \n",
    "x, y = ax.lines[0].get_xydata().T\n",
    "assert_almost_equal(x.min(), -204.0)\n",
    "assert_almost_equal(y.min(), 0)\n",
    "assert_almost_equal(x.max(), 1692.0)\n",
    "assert_almost_equal(y.max(), 0.99999982568)"
   ]
  },
  {
   "cell_type": "code",
   "execution_count": null,
   "metadata": {
    "collapsed": true
   },
   "outputs": [],
   "source": []
  }
 ],
 "metadata": {
  "kernelspec": {
   "display_name": "Python 3",
   "language": "python",
   "name": "python3"
  },
  "language_info": {
   "codemirror_mode": {
    "name": "ipython",
    "version": 3
   },
   "file_extension": ".py",
   "mimetype": "text/x-python",
   "name": "python",
   "nbconvert_exporter": "python",
   "pygments_lexer": "ipython3",
   "version": "3.5.2"
  }
 },
 "nbformat": 4,
 "nbformat_minor": 0
}
